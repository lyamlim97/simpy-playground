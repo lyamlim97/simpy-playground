{
 "cells": [
  {
   "cell_type": "code",
   "execution_count": 1,
   "metadata": {},
   "outputs": [
    {
     "data": {
      "text/plain": [
       "[<function __main__.my_callback(event)>]"
      ]
     },
     "execution_count": 1,
     "metadata": {},
     "output_type": "execute_result"
    }
   ],
   "source": [
    "import simpy\n",
    "\n",
    "\n",
    "def my_callback(event):\n",
    "    print(\"Called back from\", event)\n",
    "\n",
    "\n",
    "env = simpy.Environment()\n",
    "event = env.event()\n",
    "event.callbacks.append(my_callback)\n",
    "event.callbacks\n"
   ]
  },
  {
   "cell_type": "code",
   "execution_count": 2,
   "metadata": {},
   "outputs": [
    {
     "name": "stdout",
     "output_type": "stream",
     "text": [
      " \\o/ \\o/ \\o/ \\o/ \\o/ \\o/"
     ]
    }
   ],
   "source": [
    "class School:\n",
    "    def __init__(self, env):\n",
    "        self.env = env\n",
    "        self.class_ends = env.event()\n",
    "        self.pupil_procs = [env.process(self.pupil()) for i in range(3)]\n",
    "        self.bell_proc = env.process(self.bell())\n",
    "\n",
    "    def bell(self):\n",
    "        for i in range(2):\n",
    "            yield self.env.timeout(45)\n",
    "            self.class_ends.succeed()\n",
    "            self.class_ends = self.env.event()\n",
    "\n",
    "    def pupil(self):\n",
    "        for i in range(2):\n",
    "            print(r\" \\o/\", end=\"\")\n",
    "            yield self.class_ends\n",
    "\n",
    "\n",
    "school = School(env)\n",
    "env.run()\n"
   ]
  },
  {
   "cell_type": "code",
   "execution_count": 3,
   "metadata": {},
   "outputs": [
    {
     "data": {
      "text/plain": [
       "23"
      ]
     },
     "execution_count": 3,
     "metadata": {},
     "output_type": "execute_result"
    }
   ],
   "source": [
    "def sub(env):\n",
    "    yield env.timeout(1)\n",
    "    return 23\n",
    "\n",
    "\n",
    "def parent(env):\n",
    "    ret = yield env.process(sub(env))\n",
    "    return ret\n",
    "\n",
    "\n",
    "env.run(env.process(parent(env)))\n"
   ]
  },
  {
   "cell_type": "code",
   "execution_count": 4,
   "metadata": {},
   "outputs": [
    {
     "data": {
      "text/plain": [
       "23"
      ]
     },
     "execution_count": 4,
     "metadata": {},
     "output_type": "execute_result"
    }
   ],
   "source": [
    "from simpy.util import start_delayed\n",
    "\n",
    "\n",
    "def sub(env):\n",
    "    yield env.timeout(1)\n",
    "    return 23\n",
    "\n",
    "\n",
    "def parent(env):\n",
    "    sub_proc = yield start_delayed(env, sub(env), delay=3)\n",
    "    ret = yield sub_proc\n",
    "    return ret\n",
    "\n",
    "\n",
    "env.run(env.process(parent(env)))\n"
   ]
  },
  {
   "cell_type": "code",
   "execution_count": 5,
   "metadata": {},
   "outputs": [],
   "source": [
    "from simpy.events import AnyOf, AllOf, Event\n",
    "\n",
    "events = [Event(env) for i in range(3)]\n",
    "a = AnyOf(env, events)  # Triggers if at least one of \"events\" is triggered.\n",
    "b = AllOf(env, events)  # Triggers if all each of \"events\" is triggered.\n"
   ]
  },
  {
   "cell_type": "code",
   "execution_count": 6,
   "metadata": {},
   "outputs": [],
   "source": [
    "def test_condition(env):\n",
    "    t1, t2 = env.timeout(1, value=\"spam\"), env.timeout(2, value=\"eggs\")\n",
    "    ret = yield t1 | t2\n",
    "    assert ret == {t1: \"spam\"}\n",
    "\n",
    "    t1, t2 = env.timeout(1, value=\"spam\"), env.timeout(2, value=\"eggs\")\n",
    "    ret = yield t1 & t2\n",
    "    assert ret == {t1: \"spam\", t2: \"eggs\"}\n",
    "\n",
    "    # You can also concatenate & and |\n",
    "    e1, e2, e3 = [env.timeout(i) for i in range(3)]\n",
    "    yield (e1 | e2) & e3\n",
    "    assert all(e.processed for e in [e1, e2, e3])\n",
    "\n",
    "\n",
    "proc = env.process(test_condition(env))\n",
    "env.run()\n"
   ]
  },
  {
   "cell_type": "code",
   "execution_count": 7,
   "metadata": {},
   "outputs": [],
   "source": [
    "def fetch_values_of_multiple_events(env):\n",
    "    t1, t2 = env.timeout(1, value=\"spam\"), env.timeout(2, value=\"eggs\")\n",
    "    r1, r2 = (yield t1 & t2).values()\n",
    "    assert r1 == \"spam\" and r2 == \"eggs\"\n",
    "\n",
    "\n",
    "proc = env.process(fetch_values_of_multiple_events(env))\n",
    "env.run()\n"
   ]
  }
 ],
 "metadata": {
  "kernelspec": {
   "display_name": "venv",
   "language": "python",
   "name": "python3"
  },
  "language_info": {
   "codemirror_mode": {
    "name": "ipython",
    "version": 3
   },
   "file_extension": ".py",
   "mimetype": "text/x-python",
   "name": "python",
   "nbconvert_exporter": "python",
   "pygments_lexer": "ipython3",
   "version": "3.9.13"
  },
  "orig_nbformat": 4
 },
 "nbformat": 4,
 "nbformat_minor": 2
}