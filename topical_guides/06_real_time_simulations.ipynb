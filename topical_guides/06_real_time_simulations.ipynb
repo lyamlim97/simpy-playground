{
 "cells": [
  {
   "cell_type": "code",
   "execution_count": 1,
   "metadata": {},
   "outputs": [
    {
     "name": "stdout",
     "output_type": "stream",
     "text": [
      "Duration of one simulation time unit: 0.00s\n",
      "Duration of one simulation time unit: 0.12s\n"
     ]
    }
   ],
   "source": [
    "import time\n",
    "import simpy\n",
    "\n",
    "\n",
    "def example(env):\n",
    "    start = time.perf_counter()\n",
    "    yield env.timeout(1)\n",
    "    end = time.perf_counter()\n",
    "    print(\"Duration of one simulation time unit: %.2fs\" % (end - start))\n",
    "\n",
    "\n",
    "env = simpy.Environment()\n",
    "proc = env.process(example(env))\n",
    "env.run(until=proc)\n",
    "\n",
    "import simpy.rt\n",
    "\n",
    "env = simpy.rt.RealtimeEnvironment(factor=0.1)\n",
    "proc = env.process(example(env))\n",
    "env.run(until=proc)\n"
   ]
  },
  {
   "cell_type": "code",
   "execution_count": 2,
   "metadata": {},
   "outputs": [
    {
     "name": "stdout",
     "output_type": "stream",
     "text": [
      "Simulation is too slow\n"
     ]
    }
   ],
   "source": [
    "import time\n",
    "import simpy.rt\n",
    "\n",
    "\n",
    "def slow_proc(env):\n",
    "    time.sleep(0.02)  # Heavy computation :-)\n",
    "    yield env.timeout(1)\n",
    "\n",
    "\n",
    "env = simpy.rt.RealtimeEnvironment(factor=0.01)\n",
    "proc = env.process(slow_proc(env))\n",
    "try:\n",
    "    env.run(until=proc)\n",
    "    print(\"Everything alright\")\n",
    "except RuntimeError:\n",
    "    print(\"Simulation is too slow\")\n"
   ]
  },
  {
   "cell_type": "code",
   "execution_count": 3,
   "metadata": {},
   "outputs": [
    {
     "name": "stdout",
     "output_type": "stream",
     "text": [
      "Everything alright\n"
     ]
    }
   ],
   "source": [
    "env = simpy.rt.RealtimeEnvironment(factor=0.01, strict=False)\n",
    "proc = env.process(slow_proc(env))\n",
    "try:\n",
    "    env.run(until=proc)\n",
    "    print(\"Everything alright\")\n",
    "except RuntimeError:\n",
    "    print(\"Simulation is too slow\")\n"
   ]
  }
 ],
 "metadata": {
  "kernelspec": {
   "display_name": "venv",
   "language": "python",
   "name": "python3"
  },
  "language_info": {
   "codemirror_mode": {
    "name": "ipython",
    "version": 3
   },
   "file_extension": ".py",
   "mimetype": "text/x-python",
   "name": "python",
   "nbconvert_exporter": "python",
   "pygments_lexer": "ipython3",
   "version": "3.9.13"
  },
  "orig_nbformat": 4
 },
 "nbformat": 4,
 "nbformat_minor": 2
}
