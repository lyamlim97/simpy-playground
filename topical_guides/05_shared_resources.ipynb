{
 "cells": [
  {
   "cell_type": "code",
   "execution_count": 1,
   "metadata": {},
   "outputs": [],
   "source": [
    "import simpy\n",
    "\n",
    "\n",
    "def resource_user(env, resource):\n",
    "    request = resource.request()  # Generate a request event\n",
    "    yield request  # Wait for access\n",
    "    yield env.timeout(1)  # Do something\n",
    "    resource.release(request)  # Release the resource\n",
    "\n",
    "\n",
    "env = simpy.Environment()\n",
    "res = simpy.Resource(env, capacity=1)\n",
    "user = env.process(resource_user(env, res))\n",
    "env.run()\n"
   ]
  },
  {
   "cell_type": "code",
   "execution_count": 2,
   "metadata": {},
   "outputs": [],
   "source": [
    "def resource_user(env, resource):\n",
    "    with resource.request() as req:  # Generate a request event\n",
    "        yield req  # Wait for access\n",
    "        yield env.timeout(1)  # Do something\n",
    "        # Resource released automatically\n",
    "\n",
    "\n",
    "user = env.process(resource_user(env, res))\n",
    "env.run()\n"
   ]
  },
  {
   "cell_type": "code",
   "execution_count": 3,
   "metadata": {},
   "outputs": [
    {
     "name": "stdout",
     "output_type": "stream",
     "text": [
      "0 of 1 slots are allocated.\n",
      "  Users: []\n",
      "  Queued events: []\n",
      "1 of 1 slots are allocated.\n",
      "  Users: [<Request() object at 0x29c3c313f10>]\n",
      "  Queued events: []\n",
      "1 of 1 slots are allocated.\n",
      "  Users: [<Request() object at 0x29c3c313f10>]\n",
      "  Queued events: [<Request() object at 0x29c3c459340>]\n",
      "0 of 1 slots are allocated.\n",
      "  Users: []\n",
      "  Queued events: [<Request() object at 0x29c3c459340>]\n",
      "1 of 1 slots are allocated.\n",
      "  Users: [<Request() object at 0x29c3c459340>]\n",
      "  Queued events: []\n",
      "0 of 1 slots are allocated.\n",
      "  Users: []\n",
      "  Queued events: []\n"
     ]
    }
   ],
   "source": [
    "res = simpy.Resource(env, capacity=1)\n",
    "\n",
    "\n",
    "def print_stats(res):\n",
    "    print(f\"{res.count} of {res.capacity} slots are allocated.\")\n",
    "    print(f\"  Users: {res.users}\")\n",
    "    print(f\"  Queued events: {res.queue}\")\n",
    "\n",
    "\n",
    "def user(res):\n",
    "    print_stats(res)\n",
    "    with res.request() as req:\n",
    "        yield req\n",
    "        print_stats(res)\n",
    "    print_stats(res)\n",
    "\n",
    "\n",
    "procs = [env.process(user(res)), env.process(user(res))]\n",
    "env.run()\n"
   ]
  },
  {
   "cell_type": "code",
   "execution_count": 4,
   "metadata": {},
   "outputs": [
    {
     "name": "stdout",
     "output_type": "stream",
     "text": [
      "1 requesting at 0 with priority=0\n",
      "1 got resource at 0\n",
      "2 requesting at 1 with priority=0\n",
      "3 requesting at 2 with priority=-1\n",
      "3 got resource at 3\n",
      "2 got resource at 6\n"
     ]
    }
   ],
   "source": [
    "def resource_user(name, env, resource, wait, prio):\n",
    "    yield env.timeout(wait)\n",
    "    with resource.request(priority=prio) as req:\n",
    "        print(f\"{name} requesting at {env.now} with priority={prio}\")\n",
    "        yield req\n",
    "        print(f\"{name} got resource at {env.now}\")\n",
    "        yield env.timeout(3)\n",
    "\n",
    "\n",
    "env = simpy.Environment()\n",
    "res = simpy.PriorityResource(env, capacity=1)\n",
    "p1 = env.process(resource_user(1, env, res, wait=0, prio=0))\n",
    "p2 = env.process(resource_user(2, env, res, wait=1, prio=0))\n",
    "p3 = env.process(resource_user(3, env, res, wait=2, prio=-1))\n",
    "env.run()\n"
   ]
  },
  {
   "cell_type": "code",
   "execution_count": 5,
   "metadata": {},
   "outputs": [
    {
     "name": "stdout",
     "output_type": "stream",
     "text": [
      "1 requesting at 0 with priority=0\n",
      "1 got resource at 0\n",
      "2 requesting at 1 with priority=0\n",
      "3 requesting at 2 with priority=-1\n",
      "1 got preempted by <Process(resource_user) object at 0x29c3c459e20> at 2 after 2\n",
      "3 got resource at 2\n",
      "2 got resource at 5\n"
     ]
    }
   ],
   "source": [
    "def resource_user(name, env, resource, wait, prio):\n",
    "    yield env.timeout(wait)\n",
    "    with resource.request(priority=prio) as req:\n",
    "        print(f\"{name} requesting at {env.now} with priority={prio}\")\n",
    "        yield req\n",
    "        print(f\"{name} got resource at {env.now}\")\n",
    "        try:\n",
    "            yield env.timeout(3)\n",
    "        except simpy.Interrupt as interrupt:\n",
    "            by = interrupt.cause.by\n",
    "            usage = env.now - interrupt.cause.usage_since\n",
    "            print(f\"{name} got preempted by {by} at {env.now}\" f\" after {usage}\")\n",
    "\n",
    "\n",
    "env = simpy.Environment()\n",
    "res = simpy.PreemptiveResource(env, capacity=1)\n",
    "p1 = env.process(resource_user(1, env, res, wait=0, prio=0))\n",
    "p2 = env.process(resource_user(2, env, res, wait=1, prio=0))\n",
    "p3 = env.process(resource_user(3, env, res, wait=2, prio=-1))\n",
    "env.run()\n"
   ]
  },
  {
   "cell_type": "code",
   "execution_count": 6,
   "metadata": {},
   "outputs": [
    {
     "name": "stdout",
     "output_type": "stream",
     "text": [
      "A requesting at 0\n",
      "A got resource at 0\n"
     ]
    }
   ],
   "source": [
    "def user(name, env, res, prio, preempt):\n",
    "    with res.request(priority=prio, preempt=preempt) as req:\n",
    "        try:\n",
    "            print(f\"{name} requesting at {env.now}\")\n",
    "            assert isinstance(env.now, int), type(env.now)\n",
    "            yield req\n",
    "            assert isinstance(env.now, int), type(env.now)\n",
    "            print(f\"{name} got resource at {env.now}\")\n",
    "            yield env.timeout(3)\n",
    "        except simpy.Interrupt:\n",
    "            print(f\"{name} got preempted at {env.now}\")\n",
    "\n",
    "\n",
    "env = simpy.Environment()\n",
    "res = simpy.PreemptiveResource(env, capacity=1)\n",
    "A = env.process(user(\"A\", env, res, prio=0, preempt=True))\n",
    "env.run(until=1)  # Give A a head start\n"
   ]
  },
  {
   "cell_type": "code",
   "execution_count": 7,
   "metadata": {},
   "outputs": [
    {
     "name": "stdout",
     "output_type": "stream",
     "text": [
      "B requesting at 1\n",
      "C requesting at 1\n",
      "B got resource at 3\n",
      "C got resource at 6\n"
     ]
    }
   ],
   "source": [
    "B = env.process(user(\"B\", env, res, prio=-2, preempt=False))\n",
    "C = env.process(user(\"C\", env, res, prio=-1, preempt=True))\n",
    "env.run()\n"
   ]
  },
  {
   "cell_type": "code",
   "execution_count": 8,
   "metadata": {},
   "outputs": [
    {
     "name": "stdout",
     "output_type": "stream",
     "text": [
      "Car 0 arriving at 0\n",
      "Car 0 starts refueling at 0\n",
      "Car 1 arriving at 5\n",
      "Car 0 done refueling at 5\n",
      "Car 1 starts refueling at 5\n",
      "Car 2 arriving at 10\n",
      "Car 1 done refueling at 10\n",
      "Car 2 starts refueling at 10\n",
      "Calling tanker at 15\n",
      "Car 3 arriving at 15\n",
      "Car 3 starts refueling at 15\n",
      "Tanker arriving at 25\n",
      "Car 2 done refueling at 30\n",
      "Car 3 done refueling at 30\n"
     ]
    }
   ],
   "source": [
    "class GasStation:\n",
    "    def __init__(self, env):\n",
    "        self.fuel_dispensers = simpy.Resource(env, capacity=2)\n",
    "        self.gas_tank = simpy.Container(env, init=100, capacity=1000)\n",
    "        self.mon_proc = env.process(self.monitor_tank(env))\n",
    "\n",
    "    def monitor_tank(self, env):\n",
    "        while True:\n",
    "            if self.gas_tank.level < 100:\n",
    "                print(f\"Calling tanker at {env.now}\")\n",
    "                env.process(tanker(env, self))\n",
    "            yield env.timeout(15)\n",
    "\n",
    "\n",
    "def tanker(env, gas_station):\n",
    "    yield env.timeout(10)  # Need 10 Minutes to arrive\n",
    "    print(f\"Tanker arriving at {env.now}\")\n",
    "    amount = gas_station.gas_tank.capacity - gas_station.gas_tank.level\n",
    "    yield gas_station.gas_tank.put(amount)\n",
    "\n",
    "\n",
    "def car(name, env, gas_station):\n",
    "    print(f\"Car {name} arriving at {env.now}\")\n",
    "    with gas_station.fuel_dispensers.request() as req:\n",
    "        yield req\n",
    "        print(f\"Car {name} starts refueling at {env.now}\")\n",
    "        yield gas_station.gas_tank.get(40)\n",
    "        yield env.timeout(5)\n",
    "        print(f\"Car {name} done refueling at {env.now}\")\n",
    "\n",
    "\n",
    "def car_generator(env, gas_station):\n",
    "    for i in range(4):\n",
    "        env.process(car(i, env, gas_station))\n",
    "        yield env.timeout(5)\n",
    "\n",
    "\n",
    "env = simpy.Environment()\n",
    "gas_station = GasStation(env)\n",
    "car_gen = env.process(car_generator(env, gas_station))\n",
    "env.run(35)\n"
   ]
  },
  {
   "cell_type": "code",
   "execution_count": 9,
   "metadata": {},
   "outputs": [
    {
     "name": "stdout",
     "output_type": "stream",
     "text": [
      "0 requesting spam at 1\n",
      "1 requesting spam at 1\n",
      "Produced spam at 2\n",
      "0 got spam 0 at 2\n",
      "0 requesting spam at 3\n",
      "Produced spam at 4\n",
      "1 got spam 1 at 4\n"
     ]
    }
   ],
   "source": [
    "def producer(env, store):\n",
    "    for i in range(100):\n",
    "        yield env.timeout(2)\n",
    "        yield store.put(f\"spam {i}\")\n",
    "        print(f\"Produced spam at\", env.now)\n",
    "\n",
    "\n",
    "def consumer(name, env, store):\n",
    "    while True:\n",
    "        yield env.timeout(1)\n",
    "        print(name, \"requesting spam at\", env.now)\n",
    "        item = yield store.get()\n",
    "        print(name, \"got\", item, \"at\", env.now)\n",
    "\n",
    "\n",
    "env = simpy.Environment()\n",
    "store = simpy.Store(env, capacity=2)\n",
    "\n",
    "prod = env.process(producer(env, store))\n",
    "consumers = [env.process(consumer(i, env, store)) for i in range(2)]\n",
    "\n",
    "env.run(until=5)\n"
   ]
  },
  {
   "cell_type": "code",
   "execution_count": 10,
   "metadata": {},
   "outputs": [
    {
     "name": "stdout",
     "output_type": "stream",
     "text": [
      "0 got Machine(size=1, duration=2) at 0\n",
      "1 got Machine(size=2, duration=1) at 0\n",
      "1 released Machine(size=2, duration=1) at 1\n",
      "0 released Machine(size=1, duration=2) at 2\n",
      "2 got Machine(size=1, duration=2) at 2\n",
      "2 released Machine(size=1, duration=2) at 4\n"
     ]
    }
   ],
   "source": [
    "from collections import namedtuple\n",
    "\n",
    "Machine = namedtuple(\"Machine\", \"size, duration\")\n",
    "m1 = Machine(1, 2)  # Small and slow\n",
    "m2 = Machine(2, 1)  # Big and fast\n",
    "\n",
    "env = simpy.Environment()\n",
    "machine_shop = simpy.FilterStore(env, capacity=2)\n",
    "machine_shop.items = [m1, m2]  # Pre-populate the machine shop\n",
    "\n",
    "\n",
    "def user(name, env, ms, size):\n",
    "    machine = yield ms.get(lambda machine: machine.size == size)\n",
    "    print(name, \"got\", machine, \"at\", env.now)\n",
    "    yield env.timeout(machine.duration)\n",
    "    yield ms.put(machine)\n",
    "    print(name, \"released\", machine, \"at\", env.now)\n",
    "\n",
    "\n",
    "users = [env.process(user(i, env, machine_shop, (i % 2) + 1)) for i in range(3)]\n",
    "env.run()\n"
   ]
  },
  {
   "cell_type": "code",
   "execution_count": 11,
   "metadata": {},
   "outputs": [
    {
     "name": "stdout",
     "output_type": "stream",
     "text": [
      "1 log PriorityItem(priority='P2', item='#0000')\n",
      "2 log PriorityItem(priority='P0', item='#0001')\n",
      "3 log PriorityItem(priority='P3', item='#0002')\n",
      "3 repair PriorityItem(priority='P0', item='#0001')\n",
      "4 log PriorityItem(priority='P1', item='#0003')\n",
      "6 repair PriorityItem(priority='P1', item='#0003')\n",
      "9 repair PriorityItem(priority='P2', item='#0000')\n",
      "12 repair PriorityItem(priority='P3', item='#0002')\n"
     ]
    }
   ],
   "source": [
    "env = simpy.Environment()\n",
    "issues = simpy.PriorityStore(env)\n",
    "\n",
    "\n",
    "def inspector(env, issues):\n",
    "    for issue in [\n",
    "        simpy.PriorityItem(\"P2\", \"#0000\"),\n",
    "        simpy.PriorityItem(\"P0\", \"#0001\"),\n",
    "        simpy.PriorityItem(\"P3\", \"#0002\"),\n",
    "        simpy.PriorityItem(\"P1\", \"#0003\"),\n",
    "    ]:\n",
    "        yield env.timeout(1)\n",
    "        print(env.now, \"log\", issue)\n",
    "        yield issues.put(issue)\n",
    "\n",
    "\n",
    "def maintainer(env, issues):\n",
    "    while True:\n",
    "        yield env.timeout(3)\n",
    "        issue = yield issues.get()\n",
    "        print(env.now, \"repair\", issue)\n",
    "\n",
    "\n",
    "_ = env.process(inspector(env, issues))\n",
    "_ = env.process(maintainer(env, issues))\n",
    "env.run()\n"
   ]
  }
 ],
 "metadata": {
  "kernelspec": {
   "display_name": "venv",
   "language": "python",
   "name": "python3"
  },
  "language_info": {
   "codemirror_mode": {
    "name": "ipython",
    "version": 3
   },
   "file_extension": ".py",
   "mimetype": "text/x-python",
   "name": "python",
   "nbconvert_exporter": "python",
   "pygments_lexer": "ipython3",
   "version": "3.9.13"
  },
  "orig_nbformat": 4
 },
 "nbformat": 4,
 "nbformat_minor": 2
}
