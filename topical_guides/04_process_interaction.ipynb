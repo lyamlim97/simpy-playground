{
 "cells": [
  {
   "cell_type": "code",
   "execution_count": 1,
   "metadata": {},
   "outputs": [
    {
     "name": "stdout",
     "output_type": "stream",
     "text": [
      "Bat. ctrl. passivating at 0\n",
      "Start parking at 29\n",
      "Bat. ctrl. reactivated at 29\n",
      "Bat. ctrl. passivating at 60\n",
      "Stop parking at 131\n"
     ]
    }
   ],
   "source": [
    "from random import seed, randint\n",
    "\n",
    "seed(23)\n",
    "\n",
    "import simpy\n",
    "\n",
    "\n",
    "class EV:\n",
    "    def __init__(self, env):\n",
    "        self.env = env\n",
    "        self.drive_proc = env.process(self.drive(env))\n",
    "        self.bat_ctrl_proc = env.process(self.bat_ctrl(env))\n",
    "        self.bat_ctrl_reactivate = env.event()\n",
    "\n",
    "    def drive(self, env):\n",
    "        while True:\n",
    "            # Drive for 20-40 min\n",
    "            yield env.timeout(randint(20, 40))\n",
    "\n",
    "            # Park for 1–6 hours\n",
    "            print(\"Start parking at\", env.now)\n",
    "            self.bat_ctrl_reactivate.succeed()  # \"reactivate\"\n",
    "            self.bat_ctrl_reactivate = env.event()\n",
    "            yield env.timeout(randint(60, 360))\n",
    "            print(\"Stop parking at\", env.now)\n",
    "\n",
    "    def bat_ctrl(self, env):\n",
    "        while True:\n",
    "            print(\"Bat. ctrl. passivating at\", env.now)\n",
    "            yield self.bat_ctrl_reactivate  # \"passivate\"\n",
    "            print(\"Bat. ctrl. reactivated at\", env.now)\n",
    "\n",
    "            # Intelligent charging behavior here …\n",
    "            yield env.timeout(randint(30, 90))\n",
    "\n",
    "\n",
    "env = simpy.Environment()\n",
    "ev = EV(env)\n",
    "env.run(until=150)\n"
   ]
  },
  {
   "cell_type": "code",
   "execution_count": 2,
   "metadata": {},
   "outputs": [
    {
     "name": "stdout",
     "output_type": "stream",
     "text": [
      "Start parking at 29\n",
      "Bat. ctrl. started at 29\n",
      "Bat. ctrl. done at 83\n",
      "Stop parking at 305\n"
     ]
    }
   ],
   "source": [
    "class EV:\n",
    "    def __init__(self, env):\n",
    "        self.env = env\n",
    "        self.drive_proc = env.process(self.drive(env))\n",
    "\n",
    "    def drive(self, env):\n",
    "        while True:\n",
    "            # Drive for 20-40 min\n",
    "            yield env.timeout(randint(20, 40))\n",
    "\n",
    "            # Park for 1–6 hours\n",
    "            print(\"Start parking at\", env.now)\n",
    "            charging = env.process(self.bat_ctrl(env))\n",
    "            parking = env.timeout(randint(60, 360))\n",
    "            yield charging & parking\n",
    "            print(\"Stop parking at\", env.now)\n",
    "\n",
    "    def bat_ctrl(self, env):\n",
    "        print(\"Bat. ctrl. started at\", env.now)\n",
    "        # Intelligent charging behavior here …\n",
    "        yield env.timeout(randint(30, 90))\n",
    "        print(\"Bat. ctrl. done at\", env.now)\n",
    "\n",
    "\n",
    "env = simpy.Environment()\n",
    "ev = EV(env)\n",
    "env.run(until=310)\n"
   ]
  },
  {
   "cell_type": "code",
   "execution_count": 3,
   "metadata": {},
   "outputs": [
    {
     "name": "stdout",
     "output_type": "stream",
     "text": [
      "Start parking at 31\n",
      "Bat. ctrl. started at 31\n",
      "Stop parking at 91\n",
      "Bat. ctrl. interrupted at 91 msg: Need to go!\n"
     ]
    }
   ],
   "source": [
    "class EV:\n",
    "    def __init__(self, env):\n",
    "        self.env = env\n",
    "        self.drive_proc = env.process(self.drive(env))\n",
    "\n",
    "    def drive(self, env):\n",
    "        while True:\n",
    "            # Drive for 20-40 min\n",
    "            yield env.timeout(randint(20, 40))\n",
    "\n",
    "            # Park for 1 hour\n",
    "            print(\"Start parking at\", env.now)\n",
    "            charging = env.process(self.bat_ctrl(env))\n",
    "            parking = env.timeout(60)\n",
    "            yield charging | parking\n",
    "            if not charging.triggered:\n",
    "                # Interrupt charging if not already done.\n",
    "                charging.interrupt(\"Need to go!\")\n",
    "            print(\"Stop parking at\", env.now)\n",
    "\n",
    "    def bat_ctrl(self, env):\n",
    "        print(\"Bat. ctrl. started at\", env.now)\n",
    "        try:\n",
    "            yield env.timeout(randint(60, 90))\n",
    "            print(\"Bat. ctrl. done at\", env.now)\n",
    "        except simpy.Interrupt as i:\n",
    "            # Onoes! Got interrupted before the charging was done.\n",
    "            print(\"Bat. ctrl. interrupted at\", env.now, \"msg:\", i.cause)\n",
    "\n",
    "\n",
    "env = simpy.Environment()\n",
    "ev = EV(env)\n",
    "env.run(until=100)\n"
   ]
  }
 ],
 "metadata": {
  "kernelspec": {
   "display_name": "venv",
   "language": "python",
   "name": "python3"
  },
  "language_info": {
   "codemirror_mode": {
    "name": "ipython",
    "version": 3
   },
   "file_extension": ".py",
   "mimetype": "text/x-python",
   "name": "python",
   "nbconvert_exporter": "python",
   "pygments_lexer": "ipython3",
   "version": "3.9.13"
  },
  "orig_nbformat": 4
 },
 "nbformat": 4,
 "nbformat_minor": 2
}
