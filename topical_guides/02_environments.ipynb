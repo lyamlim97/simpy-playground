{
 "cells": [
  {
   "cell_type": "code",
   "execution_count": 1,
   "metadata": {},
   "outputs": [
    {
     "data": {
      "text/plain": [
       "'Monty Python\u2019s Flying Circus'"
      ]
     },
     "execution_count": 1,
     "metadata": {},
     "output_type": "execute_result"
    }
   ],
   "source": [
    "import simpy\n",
    "\n",
    "\n",
    "def my_proc(env):\n",
    "    yield env.timeout(1)\n",
    "    return \"Monty Python\u2019s Flying Circus\"\n",
    "\n",
    "\n",
    "env = simpy.Environment()\n",
    "proc = env.process(my_proc(env))\n",
    "env.run(until=proc)\n"
   ]
  },
  {
   "cell_type": "code",
   "execution_count": 2,
   "metadata": {},
   "outputs": [
    {
     "name": "stdout",
     "output_type": "stream",
     "text": [
      "<Process(my_proc) object at 0x19fe504e370>\n",
      "<Process(my_proc) object at 0x19fe504e370>\n"
     ]
    }
   ],
   "source": [
    "def subfunc(env):\n",
    "    print(env.active_process)  # will print \"p1\"\n",
    "\n",
    "\n",
    "def my_proc(env):\n",
    "    while True:\n",
    "        print(env.active_process)  # will print \"p1\"\n",
    "        subfunc(env)\n",
    "        yield env.timeout(1)\n",
    "\n",
    "\n",
    "env = simpy.Environment()\n",
    "p1 = env.process(my_proc(env))\n",
    "env.active_process  # None\n",
    "env.step()\n",
    "\n",
    "env.active_process  # None\n"
   ]
  }
 ],
 "metadata": {
  "kernelspec": {
   "display_name": "venv",
   "language": "python",
   "name": "python3"
  },
  "language_info": {
   "codemirror_mode": {
    "name": "ipython",
    "version": 3
   },
   "file_extension": ".py",
   "mimetype": "text/x-python",
   "name": "python",
   "nbconvert_exporter": "python",
   "pygments_lexer": "ipython3",
   "version": "3.9.13"
  },
  "orig_nbformat": 4
 },
 "nbformat": 4,
 "nbformat_minor": 2
}