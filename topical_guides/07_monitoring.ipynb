{
 "cells": [
  {
   "cell_type": "code",
   "execution_count": 1,
   "metadata": {},
   "outputs": [
    {
     "name": "stdout",
     "output_type": "stream",
     "text": [
      "Collected [0, 1, 3, 6, 10]\n"
     ]
    }
   ],
   "source": [
    "import simpy\n",
    "\n",
    "data = []  # This list will hold all collected data\n",
    "\n",
    "def test_process(env, data):\n",
    "    val = 0\n",
    "    for i in range(5):\n",
    "        val += env.now\n",
    "        data.append(val)  # Collect data\n",
    "        yield env.timeout(1)\n",
    "\n",
    "env = simpy.Environment()\n",
    "p = env.process(test_process(env, data))\n",
    "env.run(p)\n",
    "print('Collected', data)  # Lets see what we got"
   ]
  },
  {
   "cell_type": "code",
   "execution_count": 2,
   "metadata": {},
   "outputs": [
    {
     "name": "stdout",
     "output_type": "stream",
     "text": [
      "[(0, 1, 0), (1, 0, 0)]\n"
     ]
    }
   ],
   "source": [
    "from functools import partial, wraps\n",
    "import simpy\n",
    "\n",
    "def patch_resource(resource, pre=None, post=None):\n",
    "    \"\"\"Patch *resource* so that it calls the callable *pre* before each\n",
    "    put/get/request/release operation and the callable *post* after each\n",
    "    operation.  The only argument to these functions is the resource\n",
    "    instance.\n",
    "\n",
    "    \"\"\"\n",
    "    def get_wrapper(func):\n",
    "        # Generate a wrapper for put/get/request/release\n",
    "        @wraps(func)\n",
    "        def wrapper(*args, **kwargs):\n",
    "            # This is the actual wrapper\n",
    "            # Call \"pre\" callback\n",
    "            if pre:\n",
    "                pre(resource)\n",
    "\n",
    "            # Perform actual operation\n",
    "            ret = func(*args, **kwargs)\n",
    "\n",
    "            # Call \"post\" callback\n",
    "            if post:\n",
    "                post(resource)\n",
    "\n",
    "            return ret\n",
    "        return wrapper\n",
    "\n",
    "    # Replace the original operations with our wrapper\n",
    "    for name in ['put', 'get', 'request', 'release']:\n",
    "        if hasattr(resource, name):\n",
    "            setattr(resource, name, get_wrapper(getattr(resource, name)))\n",
    "\n",
    "def monitor(data, resource):\n",
    "    \"\"\"This is our monitoring callback.\"\"\"\n",
    "    item = (\n",
    "        resource._env.now,  # The current simulation time\n",
    "        resource.count,  # The number of users\n",
    "        len(resource.queue),  # The number of queued processes\n",
    "    )\n",
    "    data.append(item)\n",
    "\n",
    "def test_process(env, res):\n",
    "    with res.request() as req:\n",
    "        yield req\n",
    "        yield env.timeout(1)\n",
    "\n",
    "env = simpy.Environment()\n",
    "\n",
    "res = simpy.Resource(env, capacity=1)\n",
    "data = []\n",
    "# Bind *data* as first argument to monitor()\n",
    "# see https://docs.python.org/3/library/functools.html#functools.partial\n",
    "monitor = partial(monitor, data)\n",
    "patch_resource(res, post=monitor)  # Patches (only) this resource instance\n",
    "\n",
    "p = env.process(test_process(env, res))\n",
    "env.run(p)\n",
    "\n",
    "print(data)"
   ]
  },
  {
   "cell_type": "code",
   "execution_count": 3,
   "metadata": {},
   "outputs": [
    {
     "name": "stdout",
     "output_type": "stream",
     "text": [
      "[(0, 0), (0, 0), (1, 1), (2, 0)]\n"
     ]
    }
   ],
   "source": [
    "import simpy\n",
    "\n",
    "class MonitoredResource(simpy.Resource):\n",
    "    def __init__(self, *args, **kwargs):\n",
    "        super().__init__(*args, **kwargs)\n",
    "        self.data = []\n",
    "\n",
    "    def request(self, *args, **kwargs):\n",
    "        self.data.append((self._env.now, len(self.queue)))\n",
    "        return super().request(*args, **kwargs)\n",
    "\n",
    "    def release(self, *args, **kwargs):\n",
    "        self.data.append((self._env.now, len(self.queue)))\n",
    "        return super().release(*args, **kwargs)\n",
    "\n",
    "def test_process(env, res):\n",
    "    with res.request() as req:\n",
    "        yield req\n",
    "        yield env.timeout(1)\n",
    "\n",
    "env = simpy.Environment()\n",
    "\n",
    "res = MonitoredResource(env, capacity=1)\n",
    "p1 = env.process(test_process(env, res))\n",
    "p2 = env.process(test_process(env, res))\n",
    "env.run()\n",
    "\n",
    "print(res.data)"
   ]
  },
  {
   "cell_type": "code",
   "execution_count": 4,
   "metadata": {},
   "outputs": [
    {
     "name": "stdout",
     "output_type": "stream",
     "text": [
      "(0, 0, <class 'simpy.events.Initialize'>)\n",
      "(1, 1, <class 'simpy.events.Timeout'>)\n",
      "(1, 2, <class 'simpy.events.Process'>)\n"
     ]
    }
   ],
   "source": [
    "from functools import partial, wraps\n",
    "import simpy\n",
    "\n",
    "def trace(env, callback):\n",
    "    \"\"\"Replace the ``step()`` method of *env* with a tracing function\n",
    "    that calls *callbacks* with an events time, priority, ID and its\n",
    "    instance just before it is processed.\n",
    "\n",
    "    \"\"\"\n",
    "    def get_wrapper(env_step, callback):\n",
    "        \"\"\"Generate the wrapper for env.step().\"\"\"\n",
    "        @wraps(env_step)\n",
    "        def tracing_step():\n",
    "            \"\"\"Call *callback* for the next event if one exist before\n",
    "            calling ``env.step()``.\"\"\"\n",
    "            if len(env._queue):\n",
    "                t, prio, eid, event = env._queue[0]\n",
    "                callback(t, prio, eid, event)\n",
    "            return env_step()\n",
    "        return tracing_step\n",
    "\n",
    "    env.step = get_wrapper(env.step, callback)\n",
    "\n",
    "def monitor(data, t, prio, eid, event):\n",
    "    data.append((t, eid, type(event)))\n",
    "\n",
    "def test_process(env):\n",
    "    yield env.timeout(1)\n",
    "\n",
    "data = []\n",
    "# Bind *data* as first argument to monitor()\n",
    "# see https://docs.python.org/3/library/functools.html#functools.partial\n",
    "monitor = partial(monitor, data)\n",
    "\n",
    "env = simpy.Environment()\n",
    "trace(env, monitor)\n",
    "\n",
    "p = env.process(test_process(env))\n",
    "env.run(until=p)\n",
    "\n",
    "for d in data:\n",
    "    print(d)"
   ]
  }
 ],
 "metadata": {
  "kernelspec": {
   "display_name": "venv",
   "language": "python",
   "name": "python3"
  },
  "language_info": {
   "codemirror_mode": {
    "name": "ipython",
    "version": 3
   },
   "file_extension": ".py",
   "mimetype": "text/x-python",
   "name": "python",
   "nbconvert_exporter": "python",
   "pygments_lexer": "ipython3",
   "version": "3.9.13"
  },
  "orig_nbformat": 4
 },
 "nbformat": 4,
 "nbformat_minor": 2
}
